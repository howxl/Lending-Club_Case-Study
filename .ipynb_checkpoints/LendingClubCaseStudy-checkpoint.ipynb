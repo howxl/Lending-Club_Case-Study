{
 "cells": [
  {
   "cell_type": "markdown",
   "metadata": {
    "id": "N1v4EtpQr_-p"
   },
   "source": [
    "# Lending Club Case Study"
   ]
  },
  {
   "cell_type": "markdown",
   "metadata": {
    "id": "0euXKY6ssEDE"
   },
   "source": [
    "### Problem Statement\n",
    "In this case study, we use EDA to understand how consumer attributes and loan attributes influence the tendency of default. <br><br> The dataset `loan.csv` contains information about past loan applicants and whether they ‘defaulted’ or not. <br><b><i>The aim is to identify patterns which indicate if a person is likely to default, which may be used for taking actions such as denying the loan, reducing the amount of loan, lending (to risky applicants) at a higher interest rate, etc.</i></b><br>\n",
    "\n",
    "<br>When a person applies for a loan, there are two types of decisions that could be taken by the company:\n",
    "> **Loan accepted**: If the company approves the loan, there are 3 possible scenarios described below:<br>\n",
    "> - Fully paid: Applicant has fully paid the loan (the principal and the interest rate)<br>\n",
    "> - Current: Applicant is in the process of paying the instalments, i.e. the tenure of the loan is not yet completed. These candidates are not labelled as 'defaulted'.<br>\n",
    "> - Charged-off: Applicant has not paid the instalments in due time for a long period of time, i.e. he/she has defaulted on the loan.<br>\n",
    "\n",
    "> **Loan rejected**: The company had rejected the loan (because the candidate does not meet their requirements etc.). Since the loan was rejected, there is no transactional history of those applicants with the company and so this data is not available with the company (and thus in this dataset)"
   ]
  },
  {
   "cell_type": "code",
   "execution_count": 1,
   "metadata": {
    "id": "TNGhCrXJGVY-"
   },
   "outputs": [],
   "source": [
    "import numpy as np\n",
    "import pandas as pd\n",
    "import matplotlib.pyplot as plt\n",
    "import seaborn as sns"
   ]
  },
  {
   "cell_type": "markdown",
   "metadata": {
    "id": "oakkLlPlmVKV"
   },
   "source": [
    "Since we are dealing with a large dataset, we can increase the columns displayed by pandas for the sake of readability"
   ]
  },
  {
   "cell_type": "code",
   "execution_count": 2,
   "metadata": {
    "id": "kT3e0xE1mRWf"
   },
   "outputs": [],
   "source": [
    "#supress scientific notation of values\n",
    "pd.options.display.float_format = '{:.2f}'.format\n",
    "# #increasing max number of columns displayed with pandas.\n",
    "# pd.set_option('display.max_columns', 150)"
   ]
  },
  {
   "cell_type": "markdown",
   "metadata": {
    "id": "vDz2S5VKl6X2"
   },
   "source": [
    "### Reading the data"
   ]
  },
  {
   "cell_type": "code",
   "execution_count": 3,
   "metadata": {
    "colab": {
     "base_uri": "https://localhost:8080/",
     "height": 422
    },
    "id": "blrt0q-8H6g_",
    "outputId": "6eb9dab6-5263-4c4f-ded7-6a027ebb6d33"
   },
   "outputs": [
    {
     "name": "stderr",
     "output_type": "stream",
     "text": [
      "C:\\Users\\Howl\\AppData\\Local\\Temp\\ipykernel_7180\\973480915.py:2: DtypeWarning: Columns (47) have mixed types. Specify dtype option on import or set low_memory=False.\n",
      "  df = pd.read_csv(\"loan.csv\")\n"
     ]
    },
    {
     "data": {
      "text/html": [
       "<div>\n",
       "<style scoped>\n",
       "    .dataframe tbody tr th:only-of-type {\n",
       "        vertical-align: middle;\n",
       "    }\n",
       "\n",
       "    .dataframe tbody tr th {\n",
       "        vertical-align: top;\n",
       "    }\n",
       "\n",
       "    .dataframe thead th {\n",
       "        text-align: right;\n",
       "    }\n",
       "</style>\n",
       "<table border=\"1\" class=\"dataframe\">\n",
       "  <thead>\n",
       "    <tr style=\"text-align: right;\">\n",
       "      <th></th>\n",
       "      <th>id</th>\n",
       "      <th>member_id</th>\n",
       "      <th>loan_amnt</th>\n",
       "      <th>funded_amnt</th>\n",
       "      <th>funded_amnt_inv</th>\n",
       "      <th>term</th>\n",
       "      <th>int_rate</th>\n",
       "      <th>installment</th>\n",
       "      <th>grade</th>\n",
       "      <th>sub_grade</th>\n",
       "      <th>...</th>\n",
       "      <th>num_tl_90g_dpd_24m</th>\n",
       "      <th>num_tl_op_past_12m</th>\n",
       "      <th>pct_tl_nvr_dlq</th>\n",
       "      <th>percent_bc_gt_75</th>\n",
       "      <th>pub_rec_bankruptcies</th>\n",
       "      <th>tax_liens</th>\n",
       "      <th>tot_hi_cred_lim</th>\n",
       "      <th>total_bal_ex_mort</th>\n",
       "      <th>total_bc_limit</th>\n",
       "      <th>total_il_high_credit_limit</th>\n",
       "    </tr>\n",
       "  </thead>\n",
       "  <tbody>\n",
       "    <tr>\n",
       "      <th>0</th>\n",
       "      <td>1077501</td>\n",
       "      <td>1296599</td>\n",
       "      <td>5000</td>\n",
       "      <td>5000</td>\n",
       "      <td>4975.00</td>\n",
       "      <td>36 months</td>\n",
       "      <td>10.65%</td>\n",
       "      <td>162.87</td>\n",
       "      <td>B</td>\n",
       "      <td>B2</td>\n",
       "      <td>...</td>\n",
       "      <td>NaN</td>\n",
       "      <td>NaN</td>\n",
       "      <td>NaN</td>\n",
       "      <td>NaN</td>\n",
       "      <td>0.00</td>\n",
       "      <td>0.00</td>\n",
       "      <td>NaN</td>\n",
       "      <td>NaN</td>\n",
       "      <td>NaN</td>\n",
       "      <td>NaN</td>\n",
       "    </tr>\n",
       "    <tr>\n",
       "      <th>1</th>\n",
       "      <td>1077430</td>\n",
       "      <td>1314167</td>\n",
       "      <td>2500</td>\n",
       "      <td>2500</td>\n",
       "      <td>2500.00</td>\n",
       "      <td>60 months</td>\n",
       "      <td>15.27%</td>\n",
       "      <td>59.83</td>\n",
       "      <td>C</td>\n",
       "      <td>C4</td>\n",
       "      <td>...</td>\n",
       "      <td>NaN</td>\n",
       "      <td>NaN</td>\n",
       "      <td>NaN</td>\n",
       "      <td>NaN</td>\n",
       "      <td>0.00</td>\n",
       "      <td>0.00</td>\n",
       "      <td>NaN</td>\n",
       "      <td>NaN</td>\n",
       "      <td>NaN</td>\n",
       "      <td>NaN</td>\n",
       "    </tr>\n",
       "    <tr>\n",
       "      <th>2</th>\n",
       "      <td>1077175</td>\n",
       "      <td>1313524</td>\n",
       "      <td>2400</td>\n",
       "      <td>2400</td>\n",
       "      <td>2400.00</td>\n",
       "      <td>36 months</td>\n",
       "      <td>15.96%</td>\n",
       "      <td>84.33</td>\n",
       "      <td>C</td>\n",
       "      <td>C5</td>\n",
       "      <td>...</td>\n",
       "      <td>NaN</td>\n",
       "      <td>NaN</td>\n",
       "      <td>NaN</td>\n",
       "      <td>NaN</td>\n",
       "      <td>0.00</td>\n",
       "      <td>0.00</td>\n",
       "      <td>NaN</td>\n",
       "      <td>NaN</td>\n",
       "      <td>NaN</td>\n",
       "      <td>NaN</td>\n",
       "    </tr>\n",
       "    <tr>\n",
       "      <th>3</th>\n",
       "      <td>1076863</td>\n",
       "      <td>1277178</td>\n",
       "      <td>10000</td>\n",
       "      <td>10000</td>\n",
       "      <td>10000.00</td>\n",
       "      <td>36 months</td>\n",
       "      <td>13.49%</td>\n",
       "      <td>339.31</td>\n",
       "      <td>C</td>\n",
       "      <td>C1</td>\n",
       "      <td>...</td>\n",
       "      <td>NaN</td>\n",
       "      <td>NaN</td>\n",
       "      <td>NaN</td>\n",
       "      <td>NaN</td>\n",
       "      <td>0.00</td>\n",
       "      <td>0.00</td>\n",
       "      <td>NaN</td>\n",
       "      <td>NaN</td>\n",
       "      <td>NaN</td>\n",
       "      <td>NaN</td>\n",
       "    </tr>\n",
       "    <tr>\n",
       "      <th>4</th>\n",
       "      <td>1075358</td>\n",
       "      <td>1311748</td>\n",
       "      <td>3000</td>\n",
       "      <td>3000</td>\n",
       "      <td>3000.00</td>\n",
       "      <td>60 months</td>\n",
       "      <td>12.69%</td>\n",
       "      <td>67.79</td>\n",
       "      <td>B</td>\n",
       "      <td>B5</td>\n",
       "      <td>...</td>\n",
       "      <td>NaN</td>\n",
       "      <td>NaN</td>\n",
       "      <td>NaN</td>\n",
       "      <td>NaN</td>\n",
       "      <td>0.00</td>\n",
       "      <td>0.00</td>\n",
       "      <td>NaN</td>\n",
       "      <td>NaN</td>\n",
       "      <td>NaN</td>\n",
       "      <td>NaN</td>\n",
       "    </tr>\n",
       "  </tbody>\n",
       "</table>\n",
       "<p>5 rows × 111 columns</p>\n",
       "</div>"
      ],
      "text/plain": [
       "        id  member_id  loan_amnt  funded_amnt  funded_amnt_inv        term  \\\n",
       "0  1077501    1296599       5000         5000          4975.00   36 months   \n",
       "1  1077430    1314167       2500         2500          2500.00   60 months   \n",
       "2  1077175    1313524       2400         2400          2400.00   36 months   \n",
       "3  1076863    1277178      10000        10000         10000.00   36 months   \n",
       "4  1075358    1311748       3000         3000          3000.00   60 months   \n",
       "\n",
       "  int_rate  installment grade sub_grade  ... num_tl_90g_dpd_24m  \\\n",
       "0   10.65%       162.87     B        B2  ...                NaN   \n",
       "1   15.27%        59.83     C        C4  ...                NaN   \n",
       "2   15.96%        84.33     C        C5  ...                NaN   \n",
       "3   13.49%       339.31     C        C1  ...                NaN   \n",
       "4   12.69%        67.79     B        B5  ...                NaN   \n",
       "\n",
       "  num_tl_op_past_12m pct_tl_nvr_dlq  percent_bc_gt_75 pub_rec_bankruptcies  \\\n",
       "0                NaN            NaN               NaN                 0.00   \n",
       "1                NaN            NaN               NaN                 0.00   \n",
       "2                NaN            NaN               NaN                 0.00   \n",
       "3                NaN            NaN               NaN                 0.00   \n",
       "4                NaN            NaN               NaN                 0.00   \n",
       "\n",
       "  tax_liens tot_hi_cred_lim total_bal_ex_mort total_bc_limit  \\\n",
       "0      0.00             NaN               NaN            NaN   \n",
       "1      0.00             NaN               NaN            NaN   \n",
       "2      0.00             NaN               NaN            NaN   \n",
       "3      0.00             NaN               NaN            NaN   \n",
       "4      0.00             NaN               NaN            NaN   \n",
       "\n",
       "  total_il_high_credit_limit  \n",
       "0                        NaN  \n",
       "1                        NaN  \n",
       "2                        NaN  \n",
       "3                        NaN  \n",
       "4                        NaN  \n",
       "\n",
       "[5 rows x 111 columns]"
      ]
     },
     "execution_count": 3,
     "metadata": {},
     "output_type": "execute_result"
    }
   ],
   "source": [
    "# df = pd.read_csv(\"drive/MyDrive/Colab Notebooks/UpGrad MLAI/Lending Club Case Study/loan.csv\")\n",
    "df = pd.read_csv(\"loan.csv\")\n",
    "df.head()"
   ]
  },
  {
   "cell_type": "markdown",
   "metadata": {
    "id": "Fq8_7MVKnabd"
   },
   "source": [
    "### Understanding the Data"
   ]
  },
  {
   "cell_type": "code",
   "execution_count": 4,
   "metadata": {
    "colab": {
     "base_uri": "https://localhost:8080/"
    },
    "id": "sNgmpIxrPLCG",
    "outputId": "5e6a659f-ebb8-42d2-8d7b-55f686b2e032"
   },
   "outputs": [
    {
     "data": {
      "text/plain": [
       "(39717, 111)"
      ]
     },
     "execution_count": 4,
     "metadata": {},
     "output_type": "execute_result"
    }
   ],
   "source": [
    "df.shape"
   ]
  },
  {
   "cell_type": "code",
   "execution_count": 5,
   "metadata": {
    "colab": {
     "base_uri": "https://localhost:8080/"
    },
    "id": "IMok8aqhILRk",
    "outputId": "7f721879-ac3d-411e-d4c2-006b51e291c2"
   },
   "outputs": [
    {
     "name": "stdout",
     "output_type": "stream",
     "text": [
      "<class 'pandas.core.frame.DataFrame'>\n",
      "RangeIndex: 39717 entries, 0 to 39716\n",
      "Columns: 111 entries, id to total_il_high_credit_limit\n",
      "dtypes: float64(74), int64(13), object(24)\n",
      "memory usage: 33.6+ MB\n"
     ]
    }
   ],
   "source": [
    "df.info()"
   ]
  },
  {
   "cell_type": "code",
   "execution_count": 6,
   "metadata": {
    "colab": {
     "base_uri": "https://localhost:8080/",
     "height": 394
    },
    "id": "ypEoYZCyJpMH",
    "outputId": "fdf62ae7-7e1e-4b4f-ed83-92b24cd88ef9"
   },
   "outputs": [
    {
     "data": {
      "text/html": [
       "<div>\n",
       "<style scoped>\n",
       "    .dataframe tbody tr th:only-of-type {\n",
       "        vertical-align: middle;\n",
       "    }\n",
       "\n",
       "    .dataframe tbody tr th {\n",
       "        vertical-align: top;\n",
       "    }\n",
       "\n",
       "    .dataframe thead th {\n",
       "        text-align: right;\n",
       "    }\n",
       "</style>\n",
       "<table border=\"1\" class=\"dataframe\">\n",
       "  <thead>\n",
       "    <tr style=\"text-align: right;\">\n",
       "      <th></th>\n",
       "      <th>id</th>\n",
       "      <th>member_id</th>\n",
       "      <th>loan_amnt</th>\n",
       "      <th>funded_amnt</th>\n",
       "      <th>funded_amnt_inv</th>\n",
       "      <th>installment</th>\n",
       "      <th>annual_inc</th>\n",
       "      <th>dti</th>\n",
       "      <th>delinq_2yrs</th>\n",
       "      <th>inq_last_6mths</th>\n",
       "      <th>...</th>\n",
       "      <th>num_tl_90g_dpd_24m</th>\n",
       "      <th>num_tl_op_past_12m</th>\n",
       "      <th>pct_tl_nvr_dlq</th>\n",
       "      <th>percent_bc_gt_75</th>\n",
       "      <th>pub_rec_bankruptcies</th>\n",
       "      <th>tax_liens</th>\n",
       "      <th>tot_hi_cred_lim</th>\n",
       "      <th>total_bal_ex_mort</th>\n",
       "      <th>total_bc_limit</th>\n",
       "      <th>total_il_high_credit_limit</th>\n",
       "    </tr>\n",
       "  </thead>\n",
       "  <tbody>\n",
       "    <tr>\n",
       "      <th>count</th>\n",
       "      <td>39717.00</td>\n",
       "      <td>39717.00</td>\n",
       "      <td>39717.00</td>\n",
       "      <td>39717.00</td>\n",
       "      <td>39717.00</td>\n",
       "      <td>39717.00</td>\n",
       "      <td>39717.00</td>\n",
       "      <td>39717.00</td>\n",
       "      <td>39717.00</td>\n",
       "      <td>39717.00</td>\n",
       "      <td>...</td>\n",
       "      <td>0.00</td>\n",
       "      <td>0.00</td>\n",
       "      <td>0.00</td>\n",
       "      <td>0.00</td>\n",
       "      <td>39020.00</td>\n",
       "      <td>39678.00</td>\n",
       "      <td>0.00</td>\n",
       "      <td>0.00</td>\n",
       "      <td>0.00</td>\n",
       "      <td>0.00</td>\n",
       "    </tr>\n",
       "    <tr>\n",
       "      <th>mean</th>\n",
       "      <td>683131.91</td>\n",
       "      <td>850463.56</td>\n",
       "      <td>11219.44</td>\n",
       "      <td>10947.71</td>\n",
       "      <td>10397.45</td>\n",
       "      <td>324.56</td>\n",
       "      <td>68968.93</td>\n",
       "      <td>13.32</td>\n",
       "      <td>0.15</td>\n",
       "      <td>0.87</td>\n",
       "      <td>...</td>\n",
       "      <td>NaN</td>\n",
       "      <td>NaN</td>\n",
       "      <td>NaN</td>\n",
       "      <td>NaN</td>\n",
       "      <td>0.04</td>\n",
       "      <td>0.00</td>\n",
       "      <td>NaN</td>\n",
       "      <td>NaN</td>\n",
       "      <td>NaN</td>\n",
       "      <td>NaN</td>\n",
       "    </tr>\n",
       "    <tr>\n",
       "      <th>std</th>\n",
       "      <td>210694.13</td>\n",
       "      <td>265678.31</td>\n",
       "      <td>7456.67</td>\n",
       "      <td>7187.24</td>\n",
       "      <td>7128.45</td>\n",
       "      <td>208.87</td>\n",
       "      <td>63793.77</td>\n",
       "      <td>6.68</td>\n",
       "      <td>0.49</td>\n",
       "      <td>1.07</td>\n",
       "      <td>...</td>\n",
       "      <td>NaN</td>\n",
       "      <td>NaN</td>\n",
       "      <td>NaN</td>\n",
       "      <td>NaN</td>\n",
       "      <td>0.20</td>\n",
       "      <td>0.00</td>\n",
       "      <td>NaN</td>\n",
       "      <td>NaN</td>\n",
       "      <td>NaN</td>\n",
       "      <td>NaN</td>\n",
       "    </tr>\n",
       "    <tr>\n",
       "      <th>min</th>\n",
       "      <td>54734.00</td>\n",
       "      <td>70699.00</td>\n",
       "      <td>500.00</td>\n",
       "      <td>500.00</td>\n",
       "      <td>0.00</td>\n",
       "      <td>15.69</td>\n",
       "      <td>4000.00</td>\n",
       "      <td>0.00</td>\n",
       "      <td>0.00</td>\n",
       "      <td>0.00</td>\n",
       "      <td>...</td>\n",
       "      <td>NaN</td>\n",
       "      <td>NaN</td>\n",
       "      <td>NaN</td>\n",
       "      <td>NaN</td>\n",
       "      <td>0.00</td>\n",
       "      <td>0.00</td>\n",
       "      <td>NaN</td>\n",
       "      <td>NaN</td>\n",
       "      <td>NaN</td>\n",
       "      <td>NaN</td>\n",
       "    </tr>\n",
       "    <tr>\n",
       "      <th>25%</th>\n",
       "      <td>516221.00</td>\n",
       "      <td>666780.00</td>\n",
       "      <td>5500.00</td>\n",
       "      <td>5400.00</td>\n",
       "      <td>5000.00</td>\n",
       "      <td>167.02</td>\n",
       "      <td>40404.00</td>\n",
       "      <td>8.17</td>\n",
       "      <td>0.00</td>\n",
       "      <td>0.00</td>\n",
       "      <td>...</td>\n",
       "      <td>NaN</td>\n",
       "      <td>NaN</td>\n",
       "      <td>NaN</td>\n",
       "      <td>NaN</td>\n",
       "      <td>0.00</td>\n",
       "      <td>0.00</td>\n",
       "      <td>NaN</td>\n",
       "      <td>NaN</td>\n",
       "      <td>NaN</td>\n",
       "      <td>NaN</td>\n",
       "    </tr>\n",
       "    <tr>\n",
       "      <th>50%</th>\n",
       "      <td>665665.00</td>\n",
       "      <td>850812.00</td>\n",
       "      <td>10000.00</td>\n",
       "      <td>9600.00</td>\n",
       "      <td>8975.00</td>\n",
       "      <td>280.22</td>\n",
       "      <td>59000.00</td>\n",
       "      <td>13.40</td>\n",
       "      <td>0.00</td>\n",
       "      <td>1.00</td>\n",
       "      <td>...</td>\n",
       "      <td>NaN</td>\n",
       "      <td>NaN</td>\n",
       "      <td>NaN</td>\n",
       "      <td>NaN</td>\n",
       "      <td>0.00</td>\n",
       "      <td>0.00</td>\n",
       "      <td>NaN</td>\n",
       "      <td>NaN</td>\n",
       "      <td>NaN</td>\n",
       "      <td>NaN</td>\n",
       "    </tr>\n",
       "    <tr>\n",
       "      <th>75%</th>\n",
       "      <td>837755.00</td>\n",
       "      <td>1047339.00</td>\n",
       "      <td>15000.00</td>\n",
       "      <td>15000.00</td>\n",
       "      <td>14400.00</td>\n",
       "      <td>430.78</td>\n",
       "      <td>82300.00</td>\n",
       "      <td>18.60</td>\n",
       "      <td>0.00</td>\n",
       "      <td>1.00</td>\n",
       "      <td>...</td>\n",
       "      <td>NaN</td>\n",
       "      <td>NaN</td>\n",
       "      <td>NaN</td>\n",
       "      <td>NaN</td>\n",
       "      <td>0.00</td>\n",
       "      <td>0.00</td>\n",
       "      <td>NaN</td>\n",
       "      <td>NaN</td>\n",
       "      <td>NaN</td>\n",
       "      <td>NaN</td>\n",
       "    </tr>\n",
       "    <tr>\n",
       "      <th>max</th>\n",
       "      <td>1077501.00</td>\n",
       "      <td>1314167.00</td>\n",
       "      <td>35000.00</td>\n",
       "      <td>35000.00</td>\n",
       "      <td>35000.00</td>\n",
       "      <td>1305.19</td>\n",
       "      <td>6000000.00</td>\n",
       "      <td>29.99</td>\n",
       "      <td>11.00</td>\n",
       "      <td>8.00</td>\n",
       "      <td>...</td>\n",
       "      <td>NaN</td>\n",
       "      <td>NaN</td>\n",
       "      <td>NaN</td>\n",
       "      <td>NaN</td>\n",
       "      <td>2.00</td>\n",
       "      <td>0.00</td>\n",
       "      <td>NaN</td>\n",
       "      <td>NaN</td>\n",
       "      <td>NaN</td>\n",
       "      <td>NaN</td>\n",
       "    </tr>\n",
       "  </tbody>\n",
       "</table>\n",
       "<p>8 rows × 87 columns</p>\n",
       "</div>"
      ],
      "text/plain": [
       "              id  member_id  loan_amnt  funded_amnt  funded_amnt_inv  \\\n",
       "count   39717.00   39717.00   39717.00     39717.00         39717.00   \n",
       "mean   683131.91  850463.56   11219.44     10947.71         10397.45   \n",
       "std    210694.13  265678.31    7456.67      7187.24          7128.45   \n",
       "min     54734.00   70699.00     500.00       500.00             0.00   \n",
       "25%    516221.00  666780.00    5500.00      5400.00          5000.00   \n",
       "50%    665665.00  850812.00   10000.00      9600.00          8975.00   \n",
       "75%    837755.00 1047339.00   15000.00     15000.00         14400.00   \n",
       "max   1077501.00 1314167.00   35000.00     35000.00         35000.00   \n",
       "\n",
       "       installment  annual_inc      dti  delinq_2yrs  inq_last_6mths  ...  \\\n",
       "count     39717.00    39717.00 39717.00     39717.00        39717.00  ...   \n",
       "mean        324.56    68968.93    13.32         0.15            0.87  ...   \n",
       "std         208.87    63793.77     6.68         0.49            1.07  ...   \n",
       "min          15.69     4000.00     0.00         0.00            0.00  ...   \n",
       "25%         167.02    40404.00     8.17         0.00            0.00  ...   \n",
       "50%         280.22    59000.00    13.40         0.00            1.00  ...   \n",
       "75%         430.78    82300.00    18.60         0.00            1.00  ...   \n",
       "max        1305.19  6000000.00    29.99        11.00            8.00  ...   \n",
       "\n",
       "       num_tl_90g_dpd_24m  num_tl_op_past_12m  pct_tl_nvr_dlq  \\\n",
       "count                0.00                0.00            0.00   \n",
       "mean                  NaN                 NaN             NaN   \n",
       "std                   NaN                 NaN             NaN   \n",
       "min                   NaN                 NaN             NaN   \n",
       "25%                   NaN                 NaN             NaN   \n",
       "50%                   NaN                 NaN             NaN   \n",
       "75%                   NaN                 NaN             NaN   \n",
       "max                   NaN                 NaN             NaN   \n",
       "\n",
       "       percent_bc_gt_75  pub_rec_bankruptcies  tax_liens  tot_hi_cred_lim  \\\n",
       "count              0.00              39020.00   39678.00             0.00   \n",
       "mean                NaN                  0.04       0.00              NaN   \n",
       "std                 NaN                  0.20       0.00              NaN   \n",
       "min                 NaN                  0.00       0.00              NaN   \n",
       "25%                 NaN                  0.00       0.00              NaN   \n",
       "50%                 NaN                  0.00       0.00              NaN   \n",
       "75%                 NaN                  0.00       0.00              NaN   \n",
       "max                 NaN                  2.00       0.00              NaN   \n",
       "\n",
       "       total_bal_ex_mort  total_bc_limit  total_il_high_credit_limit  \n",
       "count               0.00            0.00                        0.00  \n",
       "mean                 NaN             NaN                         NaN  \n",
       "std                  NaN             NaN                         NaN  \n",
       "min                  NaN             NaN                         NaN  \n",
       "25%                  NaN             NaN                         NaN  \n",
       "50%                  NaN             NaN                         NaN  \n",
       "75%                  NaN             NaN                         NaN  \n",
       "max                  NaN             NaN                         NaN  \n",
       "\n",
       "[8 rows x 87 columns]"
      ]
     },
     "execution_count": 6,
     "metadata": {},
     "output_type": "execute_result"
    }
   ],
   "source": [
    "df.describe()"
   ]
  },
  {
   "cell_type": "markdown",
   "metadata": {
    "id": "cIg6OSXerSyg"
   },
   "source": [
    "#### Identifying the target variable\n",
    "The problem statement provides us with a dataset consisting of only approved loans in the past. They are then categorized as either *Fully Paid*, *Charged off* or *Current*.<br> So we can assume that users who have Fully Paid off their debts are preferrable and those that have been Charged off are red flags.<br>This gives us enough reason to choose this field as our target variable to identify potential defaulters.<br>*Note. since borrowers who are currently paying off their loans (i.e. in the 'current' category) can't be classified as a potential defaulter or not, we can choose to ignore this field and drop it.*"
   ]
  },
  {
   "cell_type": "code",
   "execution_count": 7,
   "metadata": {
    "colab": {
     "base_uri": "https://localhost:8080/",
     "height": 386
    },
    "id": "WWU1jkl9vlJw",
    "outputId": "21f0e822-ff09-495f-a8f2-dc7e899f7fb1"
   },
   "outputs": [
    {
     "data": {
      "text/html": [
       "<div>\n",
       "<style scoped>\n",
       "    .dataframe tbody tr th:only-of-type {\n",
       "        vertical-align: middle;\n",
       "    }\n",
       "\n",
       "    .dataframe tbody tr th {\n",
       "        vertical-align: top;\n",
       "    }\n",
       "\n",
       "    .dataframe thead th {\n",
       "        text-align: right;\n",
       "    }\n",
       "</style>\n",
       "<table border=\"1\" class=\"dataframe\">\n",
       "  <thead>\n",
       "    <tr style=\"text-align: right;\">\n",
       "      <th></th>\n",
       "      <th>id</th>\n",
       "      <th>member_id</th>\n",
       "      <th>loan_amnt</th>\n",
       "      <th>funded_amnt</th>\n",
       "      <th>funded_amnt_inv</th>\n",
       "      <th>term</th>\n",
       "      <th>int_rate</th>\n",
       "      <th>installment</th>\n",
       "      <th>grade</th>\n",
       "      <th>sub_grade</th>\n",
       "      <th>...</th>\n",
       "      <th>num_tl_90g_dpd_24m</th>\n",
       "      <th>num_tl_op_past_12m</th>\n",
       "      <th>pct_tl_nvr_dlq</th>\n",
       "      <th>percent_bc_gt_75</th>\n",
       "      <th>pub_rec_bankruptcies</th>\n",
       "      <th>tax_liens</th>\n",
       "      <th>tot_hi_cred_lim</th>\n",
       "      <th>total_bal_ex_mort</th>\n",
       "      <th>total_bc_limit</th>\n",
       "      <th>total_il_high_credit_limit</th>\n",
       "    </tr>\n",
       "  </thead>\n",
       "  <tbody>\n",
       "    <tr>\n",
       "      <th>0</th>\n",
       "      <td>1077501</td>\n",
       "      <td>1296599</td>\n",
       "      <td>5000</td>\n",
       "      <td>5000</td>\n",
       "      <td>4975.00</td>\n",
       "      <td>36 months</td>\n",
       "      <td>10.65%</td>\n",
       "      <td>162.87</td>\n",
       "      <td>B</td>\n",
       "      <td>B2</td>\n",
       "      <td>...</td>\n",
       "      <td>NaN</td>\n",
       "      <td>NaN</td>\n",
       "      <td>NaN</td>\n",
       "      <td>NaN</td>\n",
       "      <td>0.00</td>\n",
       "      <td>0.00</td>\n",
       "      <td>NaN</td>\n",
       "      <td>NaN</td>\n",
       "      <td>NaN</td>\n",
       "      <td>NaN</td>\n",
       "    </tr>\n",
       "    <tr>\n",
       "      <th>1</th>\n",
       "      <td>1077430</td>\n",
       "      <td>1314167</td>\n",
       "      <td>2500</td>\n",
       "      <td>2500</td>\n",
       "      <td>2500.00</td>\n",
       "      <td>60 months</td>\n",
       "      <td>15.27%</td>\n",
       "      <td>59.83</td>\n",
       "      <td>C</td>\n",
       "      <td>C4</td>\n",
       "      <td>...</td>\n",
       "      <td>NaN</td>\n",
       "      <td>NaN</td>\n",
       "      <td>NaN</td>\n",
       "      <td>NaN</td>\n",
       "      <td>0.00</td>\n",
       "      <td>0.00</td>\n",
       "      <td>NaN</td>\n",
       "      <td>NaN</td>\n",
       "      <td>NaN</td>\n",
       "      <td>NaN</td>\n",
       "    </tr>\n",
       "    <tr>\n",
       "      <th>2</th>\n",
       "      <td>1077175</td>\n",
       "      <td>1313524</td>\n",
       "      <td>2400</td>\n",
       "      <td>2400</td>\n",
       "      <td>2400.00</td>\n",
       "      <td>36 months</td>\n",
       "      <td>15.96%</td>\n",
       "      <td>84.33</td>\n",
       "      <td>C</td>\n",
       "      <td>C5</td>\n",
       "      <td>...</td>\n",
       "      <td>NaN</td>\n",
       "      <td>NaN</td>\n",
       "      <td>NaN</td>\n",
       "      <td>NaN</td>\n",
       "      <td>0.00</td>\n",
       "      <td>0.00</td>\n",
       "      <td>NaN</td>\n",
       "      <td>NaN</td>\n",
       "      <td>NaN</td>\n",
       "      <td>NaN</td>\n",
       "    </tr>\n",
       "    <tr>\n",
       "      <th>3</th>\n",
       "      <td>1076863</td>\n",
       "      <td>1277178</td>\n",
       "      <td>10000</td>\n",
       "      <td>10000</td>\n",
       "      <td>10000.00</td>\n",
       "      <td>36 months</td>\n",
       "      <td>13.49%</td>\n",
       "      <td>339.31</td>\n",
       "      <td>C</td>\n",
       "      <td>C1</td>\n",
       "      <td>...</td>\n",
       "      <td>NaN</td>\n",
       "      <td>NaN</td>\n",
       "      <td>NaN</td>\n",
       "      <td>NaN</td>\n",
       "      <td>0.00</td>\n",
       "      <td>0.00</td>\n",
       "      <td>NaN</td>\n",
       "      <td>NaN</td>\n",
       "      <td>NaN</td>\n",
       "      <td>NaN</td>\n",
       "    </tr>\n",
       "    <tr>\n",
       "      <th>5</th>\n",
       "      <td>1075269</td>\n",
       "      <td>1311441</td>\n",
       "      <td>5000</td>\n",
       "      <td>5000</td>\n",
       "      <td>5000.00</td>\n",
       "      <td>36 months</td>\n",
       "      <td>7.90%</td>\n",
       "      <td>156.46</td>\n",
       "      <td>A</td>\n",
       "      <td>A4</td>\n",
       "      <td>...</td>\n",
       "      <td>NaN</td>\n",
       "      <td>NaN</td>\n",
       "      <td>NaN</td>\n",
       "      <td>NaN</td>\n",
       "      <td>0.00</td>\n",
       "      <td>0.00</td>\n",
       "      <td>NaN</td>\n",
       "      <td>NaN</td>\n",
       "      <td>NaN</td>\n",
       "      <td>NaN</td>\n",
       "    </tr>\n",
       "  </tbody>\n",
       "</table>\n",
       "<p>5 rows × 111 columns</p>\n",
       "</div>"
      ],
      "text/plain": [
       "        id  member_id  loan_amnt  funded_amnt  funded_amnt_inv        term  \\\n",
       "0  1077501    1296599       5000         5000          4975.00   36 months   \n",
       "1  1077430    1314167       2500         2500          2500.00   60 months   \n",
       "2  1077175    1313524       2400         2400          2400.00   36 months   \n",
       "3  1076863    1277178      10000        10000         10000.00   36 months   \n",
       "5  1075269    1311441       5000         5000          5000.00   36 months   \n",
       "\n",
       "  int_rate  installment grade sub_grade  ... num_tl_90g_dpd_24m  \\\n",
       "0   10.65%       162.87     B        B2  ...                NaN   \n",
       "1   15.27%        59.83     C        C4  ...                NaN   \n",
       "2   15.96%        84.33     C        C5  ...                NaN   \n",
       "3   13.49%       339.31     C        C1  ...                NaN   \n",
       "5    7.90%       156.46     A        A4  ...                NaN   \n",
       "\n",
       "  num_tl_op_past_12m pct_tl_nvr_dlq  percent_bc_gt_75 pub_rec_bankruptcies  \\\n",
       "0                NaN            NaN               NaN                 0.00   \n",
       "1                NaN            NaN               NaN                 0.00   \n",
       "2                NaN            NaN               NaN                 0.00   \n",
       "3                NaN            NaN               NaN                 0.00   \n",
       "5                NaN            NaN               NaN                 0.00   \n",
       "\n",
       "  tax_liens tot_hi_cred_lim total_bal_ex_mort total_bc_limit  \\\n",
       "0      0.00             NaN               NaN            NaN   \n",
       "1      0.00             NaN               NaN            NaN   \n",
       "2      0.00             NaN               NaN            NaN   \n",
       "3      0.00             NaN               NaN            NaN   \n",
       "5      0.00             NaN               NaN            NaN   \n",
       "\n",
       "  total_il_high_credit_limit  \n",
       "0                        NaN  \n",
       "1                        NaN  \n",
       "2                        NaN  \n",
       "3                        NaN  \n",
       "5                        NaN  \n",
       "\n",
       "[5 rows x 111 columns]"
      ]
     },
     "execution_count": 7,
     "metadata": {},
     "output_type": "execute_result"
    }
   ],
   "source": [
    "df = df[~(df[\"loan_status\"]=='Current')]\n",
    "df.head()"
   ]
  },
  {
   "cell_type": "markdown",
   "metadata": {
    "id": "2FRT8Spgv_In"
   },
   "source": [
    "We have successfully identified the target variable"
   ]
  },
  {
   "cell_type": "code",
   "execution_count": 8,
   "metadata": {
    "colab": {
     "base_uri": "https://localhost:8080/"
    },
    "id": "h9cyh_tLJ6Mu",
    "outputId": "478760b4-8993-460a-ba98-2c1d729a97b2"
   },
   "outputs": [
    {
     "data": {
      "text/plain": [
       "id                                0\n",
       "member_id                         0\n",
       "loan_amnt                         0\n",
       "funded_amnt                       0\n",
       "funded_amnt_inv                   0\n",
       "                              ...  \n",
       "tax_liens                        39\n",
       "tot_hi_cred_lim               38577\n",
       "total_bal_ex_mort             38577\n",
       "total_bc_limit                38577\n",
       "total_il_high_credit_limit    38577\n",
       "Length: 111, dtype: int64"
      ]
     },
     "execution_count": 8,
     "metadata": {},
     "output_type": "execute_result"
    }
   ],
   "source": [
    "df.isnull().sum()"
   ]
  },
  {
   "cell_type": "markdown",
   "metadata": {
    "id": "zIPbP9qOQhbw"
   },
   "source": [
    "looks like there are several columns with all-null values, <br> lets find the percentage of missing values"
   ]
  },
  {
   "cell_type": "code",
   "execution_count": 9,
   "metadata": {
    "colab": {
     "base_uri": "https://localhost:8080/"
    },
    "id": "RnX10-aEFQ8Y",
    "outputId": "23044176-c1f0-4a13-fe3c-c8a53f155ea3"
   },
   "outputs": [
    {
     "data": {
      "text/plain": [
       "id                             0.00\n",
       "member_id                      0.00\n",
       "loan_amnt                      0.00\n",
       "funded_amnt                    0.00\n",
       "funded_amnt_inv                0.00\n",
       "                              ...  \n",
       "tax_liens                      0.10\n",
       "tot_hi_cred_lim              100.00\n",
       "total_bal_ex_mort            100.00\n",
       "total_bc_limit               100.00\n",
       "total_il_high_credit_limit   100.00\n",
       "Length: 111, dtype: float64"
      ]
     },
     "execution_count": 9,
     "metadata": {},
     "output_type": "execute_result"
    }
   ],
   "source": [
    "round(df.isnull().sum()/len(df.index), 3)*100"
   ]
  },
  {
   "cell_type": "markdown",
   "metadata": {
    "id": "dw2QlgYpFppW"
   },
   "source": [
    "Several columns have entirely null values, since we cannot infer anything from them, lets remove them."
   ]
  },
  {
   "cell_type": "markdown",
   "metadata": {
    "id": "RmXx4On0QWvP"
   },
   "source": [
    "#### remove all-null colums"
   ]
  },
  {
   "cell_type": "code",
   "execution_count": 10,
   "metadata": {
    "colab": {
     "base_uri": "https://localhost:8080/"
    },
    "id": "MvFVrkDstgzV",
    "outputId": "3d162e4f-1082-46fc-d85c-945d57d98b06"
   },
   "outputs": [
    {
     "name": "stdout",
     "output_type": "stream",
     "text": [
      "All-Null columns:  ['next_pymnt_d', 'mths_since_last_major_derog', 'annual_inc_joint', 'dti_joint', 'verification_status_joint', 'tot_coll_amt', 'tot_cur_bal', 'open_acc_6m', 'open_il_6m', 'open_il_12m', 'open_il_24m', 'mths_since_rcnt_il', 'total_bal_il', 'il_util', 'open_rv_12m', 'open_rv_24m', 'max_bal_bc', 'all_util', 'total_rev_hi_lim', 'inq_fi', 'total_cu_tl', 'inq_last_12m', 'acc_open_past_24mths', 'avg_cur_bal', 'bc_open_to_buy', 'bc_util', 'mo_sin_old_il_acct', 'mo_sin_old_rev_tl_op', 'mo_sin_rcnt_rev_tl_op', 'mo_sin_rcnt_tl', 'mort_acc', 'mths_since_recent_bc', 'mths_since_recent_bc_dlq', 'mths_since_recent_inq', 'mths_since_recent_revol_delinq', 'num_accts_ever_120_pd', 'num_actv_bc_tl', 'num_actv_rev_tl', 'num_bc_sats', 'num_bc_tl', 'num_il_tl', 'num_op_rev_tl', 'num_rev_accts', 'num_rev_tl_bal_gt_0', 'num_sats', 'num_tl_120dpd_2m', 'num_tl_30dpd', 'num_tl_90g_dpd_24m', 'num_tl_op_past_12m', 'pct_tl_nvr_dlq', 'percent_bc_gt_75', 'tot_hi_cred_lim', 'total_bal_ex_mort', 'total_bc_limit', 'total_il_high_credit_limit']\n"
     ]
    }
   ],
   "source": [
    "all_null_columns = [x for x in df if df[x].isna().sum() == df.shape[0]]\n",
    "print(\"All-Null columns: \", all_null_columns)"
   ]
  },
  {
   "cell_type": "code",
   "execution_count": 11,
   "metadata": {
    "id": "1SE7Fm3fSwii"
   },
   "outputs": [],
   "source": [
    "df.drop(all_null_columns, inplace=True, axis=1)"
   ]
  },
  {
   "cell_type": "code",
   "execution_count": 12,
   "metadata": {
    "colab": {
     "base_uri": "https://localhost:8080/"
    },
    "id": "V5Z_rFh2StBo",
    "outputId": "4e72756c-af3d-4cd3-9b11-0716dec3a20f"
   },
   "outputs": [
    {
     "data": {
      "text/plain": [
       "id                            0.00\n",
       "member_id                     0.00\n",
       "loan_amnt                     0.00\n",
       "funded_amnt                   0.00\n",
       "funded_amnt_inv               0.00\n",
       "term                          0.00\n",
       "int_rate                      0.00\n",
       "installment                   0.00\n",
       "grade                         0.00\n",
       "sub_grade                     0.00\n",
       "emp_title                     6.00\n",
       "emp_length                    3.00\n",
       "home_ownership                0.00\n",
       "annual_inc                    0.00\n",
       "verification_status           0.00\n",
       "issue_d                       0.00\n",
       "loan_status                   0.00\n",
       "pymnt_plan                    0.00\n",
       "url                           0.00\n",
       "desc                         32.00\n",
       "purpose                       0.00\n",
       "title                         0.00\n",
       "zip_code                      0.00\n",
       "addr_state                    0.00\n",
       "dti                           0.00\n",
       "delinq_2yrs                   0.00\n",
       "earliest_cr_line              0.00\n",
       "inq_last_6mths                0.00\n",
       "mths_since_last_delinq       65.00\n",
       "mths_since_last_record       93.00\n",
       "open_acc                      0.00\n",
       "pub_rec                       0.00\n",
       "revol_bal                     0.00\n",
       "revol_util                    0.00\n",
       "total_acc                     0.00\n",
       "initial_list_status           0.00\n",
       "out_prncp                     0.00\n",
       "out_prncp_inv                 0.00\n",
       "total_pymnt                   0.00\n",
       "total_pymnt_inv               0.00\n",
       "total_rec_prncp               0.00\n",
       "total_rec_int                 0.00\n",
       "total_rec_late_fee            0.00\n",
       "recoveries                    0.00\n",
       "collection_recovery_fee       0.00\n",
       "last_pymnt_d                  0.00\n",
       "last_pymnt_amnt               0.00\n",
       "last_credit_pull_d            0.00\n",
       "collections_12_mths_ex_med    0.00\n",
       "policy_code                   0.00\n",
       "application_type              0.00\n",
       "acc_now_delinq                0.00\n",
       "chargeoff_within_12_mths      0.00\n",
       "delinq_amnt                   0.00\n",
       "pub_rec_bankruptcies          2.00\n",
       "tax_liens                     0.00\n",
       "dtype: float64"
      ]
     },
     "execution_count": 12,
     "metadata": {},
     "output_type": "execute_result"
    }
   ],
   "source": [
    "round(df.isnull().sum()/len(df.index), 2)*100"
   ]
  },
  {
   "cell_type": "markdown",
   "metadata": {
    "id": "2wKZATyMQfUQ"
   },
   "source": [
    "we notice that there are still several columns with a lot of null values. <br> Lets Analyse them individually."
   ]
  },
  {
   "cell_type": "markdown",
   "metadata": {
    "id": "Xx2xEL9mxIqo"
   },
   "source": [
    "- `emp_title` and `emp_length` specify the job title supplied by the borrower when applying for loan and the employment length respectively.\n",
    "- `desc` privides a description of the nature of the loan provided by the borrower. **However, since deriving any insights from this data would require sentiment analysis, we will drop it for now**\n",
    "- `mths_since_last_delinq` provides the number of months since the borrowers last delinquecy.\n",
    " - note that this is usually `null` for a large majority of any given sample.\n",
    " - This also makes it a good metric to keep an eye on, as past delinquents tend to regress. \n",
    " - **However, due to the lack of data in this field, we cannot come to accurate conclusions that best describe the given dataset. Hence, we drop this column as well.**\n",
    "- `mths_since_last_record` is the number of months since the borrowers last public record. \n",
    "  - **This field has over 90% missing values, we may not be able to derive relevant information. We'll drop this column.**"
   ]
  },
  {
   "cell_type": "code",
   "execution_count": 13,
   "metadata": {
    "id": "b7iAuMytxIna"
   },
   "outputs": [],
   "source": [
    "df.drop([\"desc\", \"mths_since_last_delinq\", \"mths_since_last_record\"], inplace=True, axis=1)"
   ]
  },
  {
   "cell_type": "code",
   "execution_count": 14,
   "metadata": {
    "colab": {
     "base_uri": "https://localhost:8080/"
    },
    "id": "EhmDWKAUxIkc",
    "outputId": "a212f2b7-5f39-4a78-fea5-9715d9e38c96"
   },
   "outputs": [
    {
     "data": {
      "text/plain": [
       "id                           0.00\n",
       "member_id                    0.00\n",
       "loan_amnt                    0.00\n",
       "funded_amnt                  0.00\n",
       "funded_amnt_inv              0.00\n",
       "term                         0.00\n",
       "int_rate                     0.00\n",
       "installment                  0.00\n",
       "grade                        0.00\n",
       "sub_grade                    0.00\n",
       "emp_title                    6.20\n",
       "emp_length                   2.70\n",
       "home_ownership               0.00\n",
       "annual_inc                   0.00\n",
       "verification_status          0.00\n",
       "issue_d                      0.00\n",
       "loan_status                  0.00\n",
       "pymnt_plan                   0.00\n",
       "url                          0.00\n",
       "purpose                      0.00\n",
       "title                        0.00\n",
       "zip_code                     0.00\n",
       "addr_state                   0.00\n",
       "dti                          0.00\n",
       "delinq_2yrs                  0.00\n",
       "earliest_cr_line             0.00\n",
       "inq_last_6mths               0.00\n",
       "open_acc                     0.00\n",
       "pub_rec                      0.00\n",
       "revol_bal                    0.00\n",
       "revol_util                   0.10\n",
       "total_acc                    0.00\n",
       "initial_list_status          0.00\n",
       "out_prncp                    0.00\n",
       "out_prncp_inv                0.00\n",
       "total_pymnt                  0.00\n",
       "total_pymnt_inv              0.00\n",
       "total_rec_prncp              0.00\n",
       "total_rec_int                0.00\n",
       "total_rec_late_fee           0.00\n",
       "recoveries                   0.00\n",
       "collection_recovery_fee      0.00\n",
       "last_pymnt_d                 0.20\n",
       "last_pymnt_amnt              0.00\n",
       "last_credit_pull_d           0.00\n",
       "collections_12_mths_ex_med   0.10\n",
       "policy_code                  0.00\n",
       "application_type             0.00\n",
       "acc_now_delinq               0.00\n",
       "chargeoff_within_12_mths     0.10\n",
       "delinq_amnt                  0.00\n",
       "pub_rec_bankruptcies         1.80\n",
       "tax_liens                    0.10\n",
       "dtype: float64"
      ]
     },
     "execution_count": 14,
     "metadata": {},
     "output_type": "execute_result"
    }
   ],
   "source": [
    "round(df.isnull().sum()/len(df.index), 3)*100"
   ]
  },
  {
   "cell_type": "code",
   "execution_count": null,
   "metadata": {
    "id": "tTyqdqabnhUl"
   },
   "outputs": [],
   "source": []
  },
  {
   "cell_type": "code",
   "execution_count": null,
   "metadata": {
    "id": "tzQClQvzngoC"
   },
   "outputs": [],
   "source": []
  },
  {
   "cell_type": "markdown",
   "metadata": {
    "id": "fIgR5BGzn62t"
   },
   "source": [
    "Let's have a look at the number of values each field can take, this can help us identify categorical variables"
   ]
  },
  {
   "cell_type": "code",
   "execution_count": 15,
   "metadata": {
    "colab": {
     "base_uri": "https://localhost:8080/"
    },
    "id": "opVRGPW6oHhX",
    "outputId": "e14b4b15-fc19-405a-a86a-3d14c4dd7f84"
   },
   "outputs": [
    {
     "data": {
      "text/plain": [
       "id                            38577\n",
       "member_id                     38577\n",
       "loan_amnt                       870\n",
       "funded_amnt                    1019\n",
       "funded_amnt_inv                8050\n",
       "term                              2\n",
       "int_rate                        370\n",
       "installment                   15022\n",
       "grade                             7\n",
       "sub_grade                        35\n",
       "emp_title                     28027\n",
       "emp_length                       11\n",
       "home_ownership                    5\n",
       "annual_inc                     5215\n",
       "verification_status               3\n",
       "issue_d                          55\n",
       "loan_status                       2\n",
       "pymnt_plan                        1\n",
       "url                           38577\n",
       "purpose                          14\n",
       "title                         19297\n",
       "zip_code                        822\n",
       "addr_state                       50\n",
       "dti                            2853\n",
       "delinq_2yrs                      11\n",
       "earliest_cr_line                524\n",
       "inq_last_6mths                    9\n",
       "open_acc                         40\n",
       "pub_rec                           5\n",
       "revol_bal                     21275\n",
       "revol_util                     1088\n",
       "total_acc                        82\n",
       "initial_list_status               1\n",
       "out_prncp                         1\n",
       "out_prncp_inv                     1\n",
       "total_pymnt                   36714\n",
       "total_pymnt_inv               36387\n",
       "total_rec_prncp                6841\n",
       "total_rec_int                 34025\n",
       "total_rec_late_fee             1320\n",
       "recoveries                     4040\n",
       "collection_recovery_fee        2616\n",
       "last_pymnt_d                    101\n",
       "last_pymnt_amnt               34418\n",
       "last_credit_pull_d              106\n",
       "collections_12_mths_ex_med        1\n",
       "policy_code                       1\n",
       "application_type                  1\n",
       "acc_now_delinq                    1\n",
       "chargeoff_within_12_mths          1\n",
       "delinq_amnt                       1\n",
       "pub_rec_bankruptcies              3\n",
       "tax_liens                         1\n",
       "dtype: int64"
      ]
     },
     "execution_count": 15,
     "metadata": {},
     "output_type": "execute_result"
    }
   ],
   "source": [
    "df[df.columns].nunique()"
   ]
  },
  {
   "cell_type": "markdown",
   "metadata": {
    "id": "2ZOaio0bpMOQ"
   },
   "source": [
    "we notice that columns `id`, `member_id` and `url` have as many unique values as the number of rows. Since they can all be used as identifiers, we can choose to use any one. <br> We'll use the `id` field as the identifier and drop the others."
   ]
  },
  {
   "cell_type": "code",
   "execution_count": 16,
   "metadata": {
    "id": "sHeHiDefpntR"
   },
   "outputs": [],
   "source": [
    "df.drop([\"url\", \"member_id\"], inplace=True, axis=1)"
   ]
  },
  {
   "cell_type": "markdown",
   "metadata": {
    "id": "4uM67Fko0Vme"
   },
   "source": [
    "Let's see if there are any more columns we can remove<br>"
   ]
  },
  {
   "cell_type": "markdown",
   "metadata": {
    "id": "dLuBx_ogjm5M"
   },
   "source": [
    "The objective is to detemine the predictive variables. Those that may impact the target variable `Loan_Status`<br>We notice that there are several types of variables<br>\n",
    " - those that are related to the borrower that can influence their overall probability of paying off the loan. These include employment details, age, etc.\n",
    " - those that describe the nature of the loan, such as amount, interest, purpose, etc.\n",
    " - and those that are generated after the loan is processed. Something like the next payment date, etc. Since these cannot be derived until after the loan is processed, they can be dropped."
   ]
  },
  {
   "cell_type": "code",
   "execution_count": 17,
   "metadata": {
    "id": "IfAi8-LDk847"
   },
   "outputs": [],
   "source": [
    "df.drop([\n",
    "    'delinq_2yrs', \n",
    "    'earliest_cr_line', \n",
    "    'inq_last_6mths', \n",
    "    'open_acc', \n",
    "    'pub_rec', \n",
    "    'revol_bal', \n",
    "    'revol_util',\n",
    "    'total_acc',\n",
    "    'out_prncp',\n",
    "    'out_prncp_inv',\n",
    "    'total_pymnt',\n",
    "    'total_pymnt_inv',\n",
    "    'total_rec_int',\n",
    "    'total_rec_prncp',\n",
    "    'total_rec_late_fee',\n",
    "    'recoveries',\n",
    "    'collection_recovery_fee',\n",
    "    'last_pymnt_d',\n",
    "    'last_pymnt_amnt',\n",
    "    'last_credit_pull_d',\n",
    "    'application_type'], axis=1, inplace=True)"
   ]
  },
  {
   "cell_type": "code",
   "execution_count": 18,
   "metadata": {
    "colab": {
     "base_uri": "https://localhost:8080/"
    },
    "id": "zBJ37b1MxIg8",
    "outputId": "33420e36-634b-43f5-d4f6-b2592c5a7a7b"
   },
   "outputs": [
    {
     "name": "stdout",
     "output_type": "stream",
     "text": [
      "<class 'pandas.core.frame.DataFrame'>\n",
      "Int64Index: 38577 entries, 0 to 39716\n",
      "Data columns (total 30 columns):\n",
      " #   Column                      Non-Null Count  Dtype  \n",
      "---  ------                      --------------  -----  \n",
      " 0   id                          38577 non-null  int64  \n",
      " 1   loan_amnt                   38577 non-null  int64  \n",
      " 2   funded_amnt                 38577 non-null  int64  \n",
      " 3   funded_amnt_inv             38577 non-null  float64\n",
      " 4   term                        38577 non-null  object \n",
      " 5   int_rate                    38577 non-null  object \n",
      " 6   installment                 38577 non-null  float64\n",
      " 7   grade                       38577 non-null  object \n",
      " 8   sub_grade                   38577 non-null  object \n",
      " 9   emp_title                   36191 non-null  object \n",
      " 10  emp_length                  37544 non-null  object \n",
      " 11  home_ownership              38577 non-null  object \n",
      " 12  annual_inc                  38577 non-null  float64\n",
      " 13  verification_status         38577 non-null  object \n",
      " 14  issue_d                     38577 non-null  object \n",
      " 15  loan_status                 38577 non-null  object \n",
      " 16  pymnt_plan                  38577 non-null  object \n",
      " 17  purpose                     38577 non-null  object \n",
      " 18  title                       38566 non-null  object \n",
      " 19  zip_code                    38577 non-null  object \n",
      " 20  addr_state                  38577 non-null  object \n",
      " 21  dti                         38577 non-null  float64\n",
      " 22  initial_list_status         38577 non-null  object \n",
      " 23  collections_12_mths_ex_med  38521 non-null  float64\n",
      " 24  policy_code                 38577 non-null  int64  \n",
      " 25  acc_now_delinq              38577 non-null  int64  \n",
      " 26  chargeoff_within_12_mths    38521 non-null  float64\n",
      " 27  delinq_amnt                 38577 non-null  int64  \n",
      " 28  pub_rec_bankruptcies        37880 non-null  float64\n",
      " 29  tax_liens                   38538 non-null  float64\n",
      "dtypes: float64(8), int64(6), object(16)\n",
      "memory usage: 9.1+ MB\n"
     ]
    }
   ],
   "source": [
    "df.info()"
   ]
  },
  {
   "cell_type": "markdown",
   "metadata": {
    "id": "wjPDl_FCx5HM"
   },
   "source": [
    "`int rate` defines the interest rate of the applied loan. This is expected to be a numerical value, yet it is defined as an Object. <br> Let's see why"
   ]
  },
  {
   "cell_type": "code",
   "execution_count": 19,
   "metadata": {
    "colab": {
     "base_uri": "https://localhost:8080/"
    },
    "id": "Gx7HP1N9yHZN",
    "outputId": "81b1cb0e-4011-4abd-a6ed-f918effb2f99"
   },
   "outputs": [
    {
     "data": {
      "text/plain": [
       "0    10.65%\n",
       "1    15.27%\n",
       "2    15.96%\n",
       "3    13.49%\n",
       "5     7.90%\n",
       "Name: int_rate, dtype: object"
      ]
     },
     "execution_count": 19,
     "metadata": {},
     "output_type": "execute_result"
    }
   ],
   "source": [
    "df['int_rate'].head()"
   ]
  },
  {
   "cell_type": "markdown",
   "metadata": {
    "id": "TJrXyGl2yexG"
   },
   "source": [
    "Looks like the values are suffixed with a '%' symbol<br>Let's remove the '%' and convert it to the type float"
   ]
  },
  {
   "cell_type": "code",
   "execution_count": 20,
   "metadata": {
    "id": "LyU0cEkMy0kK"
   },
   "outputs": [],
   "source": [
    "df['int_rate'] = df['int_rate'].str.rstrip('%').astype('float')"
   ]
  },
  {
   "cell_type": "markdown",
   "metadata": {
    "id": "QlLBLSzjxIcR"
   },
   "source": [
    "\n",
    "> #### `term` is defined as an object but it consists of numerical values.\n"
   ]
  },
  {
   "cell_type": "code",
   "execution_count": 21,
   "metadata": {
    "colab": {
     "base_uri": "https://localhost:8080/"
    },
    "id": "3FkwvTWZxIVC",
    "outputId": "470937c3-284e-4732-8b06-20afd20a6558"
   },
   "outputs": [
    {
     "data": {
      "text/plain": [
       "array([' 36 months', ' 60 months'], dtype=object)"
      ]
     },
     "execution_count": 21,
     "metadata": {},
     "output_type": "execute_result"
    }
   ],
   "source": [
    "df.term.unique()"
   ]
  },
  {
   "cell_type": "markdown",
   "metadata": {
    "id": "BG885AXexIJ5"
   },
   "source": [
    " since it only consists of values 36 or 60, it can be considered a catagorical variable, we can leave it as is."
   ]
  },
  {
   "cell_type": "markdown",
   "metadata": {
    "id": "pvqMfLVhcYwB"
   },
   "source": [
    "#### Format some of the other columns. We can use them to derive other potential columns"
   ]
  },
  {
   "cell_type": "code",
   "execution_count": 22,
   "metadata": {
    "id": "HgsJzKPpbm5o"
   },
   "outputs": [],
   "source": [
    "df['issue_d'] = pd.to_datetime(df['issue_d'],format='%b-%y')"
   ]
  },
  {
   "cell_type": "markdown",
   "metadata": {
    "id": "ikwzU6NgcpVk"
   },
   "source": [
    "We can derive the months and years of issued month and earliest cr line"
   ]
  },
  {
   "cell_type": "code",
   "execution_count": 23,
   "metadata": {
    "id": "FG-xUELdbxPe"
   },
   "outputs": [],
   "source": [
    "df['MonthIssued'] = df.issue_d.dt.month\n",
    "df['YearIssued'] = df.issue_d.dt.year"
   ]
  },
  {
   "cell_type": "code",
   "execution_count": 24,
   "metadata": {
    "colab": {
     "base_uri": "https://localhost:8080/"
    },
    "id": "85nWyoTQVKAV",
    "outputId": "d52d311f-89db-49ed-db15-3f82f16a1198"
   },
   "outputs": [
    {
     "data": {
      "text/plain": [
       "array(['credit_card', 'car', 'small_business', 'other', 'wedding',\n",
       "       'debt_consolidation', 'home_improvement', 'major_purchase',\n",
       "       'medical', 'moving', 'vacation', 'house', 'renewable_energy',\n",
       "       'educational'], dtype=object)"
      ]
     },
     "execution_count": 24,
     "metadata": {},
     "output_type": "execute_result"
    }
   ],
   "source": [
    "df.purpose.unique()"
   ]
  },
  {
   "cell_type": "markdown",
   "metadata": {
    "id": "p3lu9XOJVJy9"
   },
   "source": [
    "long term loans to clear short term ones. clear year long loans at EOY <br> forecasting potential salary, pay higher interests initially to compensate\n"
   ]
  },
  {
   "cell_type": "markdown",
   "metadata": {
    "id": "NkXs4YzjVJmO"
   },
   "source": [
    "### Univariate Analysis"
   ]
  },
  {
   "cell_type": "markdown",
   "metadata": {
    "id": "0zzrb7V0VIuO"
   },
   "source": [
    "Let's first have a look at the target variable"
   ]
  },
  {
   "cell_type": "code",
   "execution_count": 25,
   "metadata": {
    "colab": {
     "base_uri": "https://localhost:8080/",
     "height": 405
    },
    "id": "LOZNzBcOh_fX",
    "outputId": "73ea0f6b-5abe-4b76-864a-b7897b719e63"
   },
   "outputs": [
    {
     "data": {
      "image/png": "[encoded data removed]",
      "text/plain": [
       "<Figure size 600x600 with 1 Axes>"
      ]
     },
     "metadata": {},
     "output_type": "display_data"
    }
   ],
   "source": [
    "plt.figure(figsize=(6,6))\n",
    "sns.countplot(x = 'loan_status', data = df)\n",
    "plt.title(\"Loan Status\")\n",
    "plt.show()"
   ]
  },
  {
   "cell_type": "markdown",
   "metadata": {
    "id": "RL2R2_NHjPek"
   },
   "source": [
    "A majority of the loans are fully paid off"
   ]
  },
  {
   "cell_type": "code",
   "execution_count": 26,
   "metadata": {
    "colab": {
     "base_uri": "https://localhost:8080/",
     "height": 422
    },
    "id": "d9Mtz5RxQrRx",
    "outputId": "093cac1a-5d68-454a-9aea-a14613babd91"
   },
   "outputs": [
    {
     "name": "stdout",
     "output_type": "stream",
     "text": [
      "(38577, 32)\n"
     ]
    },
    {
     "data": {
      "text/html": [
       "<div>\n",
       "<style scoped>\n",
       "    .dataframe tbody tr th:only-of-type {\n",
       "        vertical-align: middle;\n",
       "    }\n",
       "\n",
       "    .dataframe tbody tr th {\n",
       "        vertical-align: top;\n",
       "    }\n",
       "\n",
       "    .dataframe thead th {\n",
       "        text-align: right;\n",
       "    }\n",
       "</style>\n",
       "<table border=\"1\" class=\"dataframe\">\n",
       "  <thead>\n",
       "    <tr style=\"text-align: right;\">\n",
       "      <th></th>\n",
       "      <th>id</th>\n",
       "      <th>loan_amnt</th>\n",
       "      <th>funded_amnt</th>\n",
       "      <th>funded_amnt_inv</th>\n",
       "      <th>term</th>\n",
       "      <th>int_rate</th>\n",
       "      <th>installment</th>\n",
       "      <th>grade</th>\n",
       "      <th>sub_grade</th>\n",
       "      <th>emp_title</th>\n",
       "      <th>...</th>\n",
       "      <th>initial_list_status</th>\n",
       "      <th>collections_12_mths_ex_med</th>\n",
       "      <th>policy_code</th>\n",
       "      <th>acc_now_delinq</th>\n",
       "      <th>chargeoff_within_12_mths</th>\n",
       "      <th>delinq_amnt</th>\n",
       "      <th>pub_rec_bankruptcies</th>\n",
       "      <th>tax_liens</th>\n",
       "      <th>MonthIssued</th>\n",
       "      <th>YearIssued</th>\n",
       "    </tr>\n",
       "  </thead>\n",
       "  <tbody>\n",
       "    <tr>\n",
       "      <th>0</th>\n",
       "      <td>1077501</td>\n",
       "      <td>5000</td>\n",
       "      <td>5000</td>\n",
       "      <td>4975.00</td>\n",
       "      <td>36 months</td>\n",
       "      <td>10.65</td>\n",
       "      <td>162.87</td>\n",
       "      <td>B</td>\n",
       "      <td>B2</td>\n",
       "      <td>NaN</td>\n",
       "      <td>...</td>\n",
       "      <td>f</td>\n",
       "      <td>0.00</td>\n",
       "      <td>1</td>\n",
       "      <td>0</td>\n",
       "      <td>0.00</td>\n",
       "      <td>0</td>\n",
       "      <td>0.00</td>\n",
       "      <td>0.00</td>\n",
       "      <td>12</td>\n",
       "      <td>2011</td>\n",
       "    </tr>\n",
       "    <tr>\n",
       "      <th>1</th>\n",
       "      <td>1077430</td>\n",
       "      <td>2500</td>\n",
       "      <td>2500</td>\n",
       "      <td>2500.00</td>\n",
       "      <td>60 months</td>\n",
       "      <td>15.27</td>\n",
       "      <td>59.83</td>\n",
       "      <td>C</td>\n",
       "      <td>C4</td>\n",
       "      <td>Ryder</td>\n",
       "      <td>...</td>\n",
       "      <td>f</td>\n",
       "      <td>0.00</td>\n",
       "      <td>1</td>\n",
       "      <td>0</td>\n",
       "      <td>0.00</td>\n",
       "      <td>0</td>\n",
       "      <td>0.00</td>\n",
       "      <td>0.00</td>\n",
       "      <td>12</td>\n",
       "      <td>2011</td>\n",
       "    </tr>\n",
       "    <tr>\n",
       "      <th>2</th>\n",
       "      <td>1077175</td>\n",
       "      <td>2400</td>\n",
       "      <td>2400</td>\n",
       "      <td>2400.00</td>\n",
       "      <td>36 months</td>\n",
       "      <td>15.96</td>\n",
       "      <td>84.33</td>\n",
       "      <td>C</td>\n",
       "      <td>C5</td>\n",
       "      <td>NaN</td>\n",
       "      <td>...</td>\n",
       "      <td>f</td>\n",
       "      <td>0.00</td>\n",
       "      <td>1</td>\n",
       "      <td>0</td>\n",
       "      <td>0.00</td>\n",
       "      <td>0</td>\n",
       "      <td>0.00</td>\n",
       "      <td>0.00</td>\n",
       "      <td>12</td>\n",
       "      <td>2011</td>\n",
       "    </tr>\n",
       "    <tr>\n",
       "      <th>3</th>\n",
       "      <td>1076863</td>\n",
       "      <td>10000</td>\n",
       "      <td>10000</td>\n",
       "      <td>10000.00</td>\n",
       "      <td>36 months</td>\n",
       "      <td>13.49</td>\n",
       "      <td>339.31</td>\n",
       "      <td>C</td>\n",
       "      <td>C1</td>\n",
       "      <td>AIR RESOURCES BOARD</td>\n",
       "      <td>...</td>\n",
       "      <td>f</td>\n",
       "      <td>0.00</td>\n",
       "      <td>1</td>\n",
       "      <td>0</td>\n",
       "      <td>0.00</td>\n",
       "      <td>0</td>\n",
       "      <td>0.00</td>\n",
       "      <td>0.00</td>\n",
       "      <td>12</td>\n",
       "      <td>2011</td>\n",
       "    </tr>\n",
       "    <tr>\n",
       "      <th>5</th>\n",
       "      <td>1075269</td>\n",
       "      <td>5000</td>\n",
       "      <td>5000</td>\n",
       "      <td>5000.00</td>\n",
       "      <td>36 months</td>\n",
       "      <td>7.90</td>\n",
       "      <td>156.46</td>\n",
       "      <td>A</td>\n",
       "      <td>A4</td>\n",
       "      <td>Veolia Transportaton</td>\n",
       "      <td>...</td>\n",
       "      <td>f</td>\n",
       "      <td>0.00</td>\n",
       "      <td>1</td>\n",
       "      <td>0</td>\n",
       "      <td>0.00</td>\n",
       "      <td>0</td>\n",
       "      <td>0.00</td>\n",
       "      <td>0.00</td>\n",
       "      <td>12</td>\n",
       "      <td>2011</td>\n",
       "    </tr>\n",
       "  </tbody>\n",
       "</table>\n",
       "<p>5 rows × 32 columns</p>\n",
       "</div>"
      ],
      "text/plain": [
       "        id  loan_amnt  funded_amnt  funded_amnt_inv        term  int_rate  \\\n",
       "0  1077501       5000         5000          4975.00   36 months     10.65   \n",
       "1  1077430       2500         2500          2500.00   60 months     15.27   \n",
       "2  1077175       2400         2400          2400.00   36 months     15.96   \n",
       "3  1076863      10000        10000         10000.00   36 months     13.49   \n",
       "5  1075269       5000         5000          5000.00   36 months      7.90   \n",
       "\n",
       "   installment grade sub_grade             emp_title  ... initial_list_status  \\\n",
       "0       162.87     B        B2                   NaN  ...                   f   \n",
       "1        59.83     C        C4                 Ryder  ...                   f   \n",
       "2        84.33     C        C5                   NaN  ...                   f   \n",
       "3       339.31     C        C1   AIR RESOURCES BOARD  ...                   f   \n",
       "5       156.46     A        A4  Veolia Transportaton  ...                   f   \n",
       "\n",
       "  collections_12_mths_ex_med  policy_code acc_now_delinq  \\\n",
       "0                       0.00            1              0   \n",
       "1                       0.00            1              0   \n",
       "2                       0.00            1              0   \n",
       "3                       0.00            1              0   \n",
       "5                       0.00            1              0   \n",
       "\n",
       "  chargeoff_within_12_mths delinq_amnt pub_rec_bankruptcies tax_liens  \\\n",
       "0                     0.00           0                 0.00      0.00   \n",
       "1                     0.00           0                 0.00      0.00   \n",
       "2                     0.00           0                 0.00      0.00   \n",
       "3                     0.00           0                 0.00      0.00   \n",
       "5                     0.00           0                 0.00      0.00   \n",
       "\n",
       "  MonthIssued YearIssued  \n",
       "0          12       2011  \n",
       "1          12       2011  \n",
       "2          12       2011  \n",
       "3          12       2011  \n",
       "5          12       2011  \n",
       "\n",
       "[5 rows x 32 columns]"
      ]
     },
     "execution_count": 26,
     "metadata": {},
     "output_type": "execute_result"
    }
   ],
   "source": [
    "print(df.shape)\n",
    "df.head()"
   ]
  },
  {
   "cell_type": "code",
   "execution_count": null,
   "metadata": {
    "id": "p5y9tWbYQ_DV"
   },
   "outputs": [],
   "source": []
  },
  {
   "cell_type": "markdown",
   "metadata": {
    "id": "wAmpibWs_Y95"
   },
   "source": [
    "### Bivariate Analysis"
   ]
  },
  {
   "cell_type": "markdown",
   "metadata": {},
   "source": [
    "Let's look at the columns `loan_amnt` and `term` to see if there is any notable relation between the two"
   ]
  },
  {
   "cell_type": "code",
   "execution_count": 36,
   "metadata": {},
   "outputs": [
    {
     "data": {
      "image/png": "[encoded data removed]",
      "text/plain": [
       "<Figure size 2000x800 with 2 Axes>"
      ]
     },
     "metadata": {},
     "output_type": "display_data"
    }
   ],
   "source": [
    "plt.figure(figsize=(20,8))\n",
    "plt.subplot(121)\n",
    "sns.boxplot(x='term', y='loan_amnt', hue='loan_status', data=df, palette=\"inferno\")\n",
    "plt.title('Term vs loan amount')\n",
    "plt.subplot(122)\n",
    "sns.barplot(x='term', y='loan_amnt', hue='loan_status', data=df, estimator=np.median, palette=\"inferno\")\n",
    "plt.title('Term vs loan amount')\n",
    "plt.show()"
   ]
  },
  {
   "cell_type": "markdown",
   "metadata": {},
   "source": [
    "Seems like the loan amount does not provide a clear margin of evaluation. Both fully paid off and charged off borrowers have similar distributions across 36 and 60 month terms"
   ]
  },
  {
   "cell_type": "markdown",
   "metadata": {},
   "source": [
    "What about the effect of interest rate on the term?"
   ]
  },
  {
   "cell_type": "code",
   "execution_count": 42,
   "metadata": {},
   "outputs": [
    {
     "data": {
      "image/png": "[encoded data removed]",
      "text/plain": [
       "<Figure size 2000x500 with 2 Axes>"
      ]
     },
     "metadata": {},
     "output_type": "display_data"
    }
   ],
   "source": [
    "plt.figure(figsize=(20,5))\n",
    "plt.subplot(121)\n",
    "sns.barplot(x='term', y='int_rate', hue='loan_status', data=df, estimator=np.median, palette=\"summer\")\n",
    "plt.title('Term vs Interest rate')\n",
    "plt.subplot(122)\n",
    "sns.boxplot(x='term', y='int_rate', hue='loan_status', data=df, palette=\"summer\")\n",
    "plt.title('Term vs Interest rate')\n",
    "plt.show()"
   ]
  },
  {
   "cell_type": "markdown",
   "metadata": {},
   "source": [
    "Seems like the default rate is slightly higher for higher interest rates."
   ]
  },
  {
   "cell_type": "code",
   "execution_count": null,
   "metadata": {},
   "outputs": [],
   "source": []
  },
  {
   "cell_type": "code",
   "execution_count": null,
   "metadata": {},
   "outputs": [],
   "source": []
  }
 ],
 "metadata": {
  "colab": {
   "provenance": []
  },
  "kernelspec": {
   "display_name": "Python 3 (ipykernel)",
   "language": "python",
   "name": "python3"
  },
  "language_info": {
   "codemirror_mode": {
    "name": "ipython",
    "version": 3
   },
   "file_extension": ".py",
   "mimetype": "text/x-python",
   "name": "python",
   "nbconvert_exporter": "python",
   "pygments_lexer": "ipython3",
   "version": "3.9.13"
  }
 },
 "nbformat": 4,
 "nbformat_minor": 1
}
